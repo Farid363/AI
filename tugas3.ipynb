{
  "nbformat": 4,
  "nbformat_minor": 0,
  "metadata": {
    "colab": {
      "name": "Untitled1.ipynb",
      "provenance": [],
      "collapsed_sections": [],
      "mount_file_id": "1NBf8XY_iZxJfvoIc6tXhMrntIiLiYAcv",
      "authorship_tag": "ABX9TyNbGbFMRQLVtCiUhKHi/yiR",
      "include_colab_link": true
    },
    "kernelspec": {
      "name": "python3",
      "display_name": "Python 3"
    },
    "language_info": {
      "name": "python"
    }
  },
  "cells": [
    {
      "cell_type": "markdown",
      "metadata": {
        "id": "view-in-github",
        "colab_type": "text"
      },
      "source": [
        "<a href=\"https://colab.research.google.com/github/Farid363/AI/blob/main/tugas3.ipynb\" target=\"_parent\"><img src=\"https://colab.research.google.com/assets/colab-badge.svg\" alt=\"Open In Colab\"/></a>"
      ]
    },
    {
      "cell_type": "code",
      "metadata": {
        "id": "vQNHPxUr24wg"
      },
      "source": [
        "from sklearn.model_selection import train_test_split\n",
        "from sklearn.preprocessing import LabelEncoder\n",
        "from sklearn.metrics import classification_report\n",
        "from tensorflow.keras.models import Sequential\n",
        "from tensorflow.keras.layers import InputLayer, Flatten, Dense, Conv2D, MaxPool2D, Dropout\n",
        "from tensorflow.keras.optimizers import Adam\n",
        "import numpy as np\n",
        "import cv2\n",
        "import glob\n",
        "import matplotlib.pyplot as plt"
      ],
      "execution_count": 63,
      "outputs": []
    },
    {
      "cell_type": "code",
      "metadata": {
        "id": "ObJTSyEj3sng"
      },
      "source": [
        "imagePaths = \"content\\\\drive\\\\MyDrive\\\\Semester 5\\\\Ai\\\\Dataset\\\\\"\n",
        "label_list = ['jambu_biji', 'pandan']\n",
        "data = []\n",
        "labels = []"
      ],
      "execution_count": 64,
      "outputs": []
    },
    {
      "cell_type": "code",
      "metadata": {
        "id": "h2MeMGbu3v1w"
      },
      "source": [
        "for label in label_list:\n",
        "    for imagePath in glob.glob(imagePaths+label+'\\\\*.jpg'):\n",
        "        #print(imagePath)\n",
        "        image = cv2.imread(imagePath)\n",
        "        image = cv2.resize(image, (32, 32))\n",
        "        data.append(image)\n",
        "        labels.append(label)"
      ],
      "execution_count": 65,
      "outputs": []
    },
    {
      "cell_type": "code",
      "metadata": {
        "colab": {
          "base_uri": "https://localhost:8080/"
        },
        "id": "Q8s00Sxi3ziA",
        "outputId": "265ccd51-01d2-4c6f-f23a-e48578ee0052"
      },
      "source": [
        "np.array(data).shape"
      ],
      "execution_count": 66,
      "outputs": [
        {
          "output_type": "execute_result",
          "data": {
            "text/plain": [
              "(0,)"
            ]
          },
          "metadata": {},
          "execution_count": 66
        }
      ]
    },
    {
      "cell_type": "code",
      "metadata": {
        "id": "npx94_xKADIy"
      },
      "source": [
        "# ubah type data dari list menjadi array\n",
        "# ubah nilai dari tiap pixel menjadi range [0..1]\n",
        "data = np.array(data, dtype='float') / 255.0\n",
        "labels = np.array(labels)"
      ],
      "execution_count": 67,
      "outputs": []
    },
    {
      "cell_type": "code",
      "metadata": {
        "colab": {
          "base_uri": "https://localhost:8080/"
        },
        "id": "v3n27vyxADmf",
        "outputId": "b36aee5d-513a-49d5-a433-1e3a82054720"
      },
      "source": [
        "print(labels)"
      ],
      "execution_count": 68,
      "outputs": [
        {
          "output_type": "stream",
          "name": "stdout",
          "text": [
            "[]\n"
          ]
        }
      ]
    },
    {
      "cell_type": "code",
      "metadata": {
        "colab": {
          "base_uri": "https://localhost:8080/"
        },
        "id": "iZr4_hJ4BV1t",
        "outputId": "dee7b1d8-730f-4a52-90b9-88279891ccdf"
      },
      "source": [
        "# ubah nilai dari labels menjadi binary\n",
        "lb = LabelEncoder()\n",
        "labels = lb.fit_transform(labels)\n",
        "print(labels)"
      ],
      "execution_count": 69,
      "outputs": [
        {
          "output_type": "stream",
          "name": "stdout",
          "text": [
            "[]\n"
          ]
        }
      ]
    },
    {
      "cell_type": "code",
      "metadata": {
        "colab": {
          "base_uri": "https://localhost:8080/",
          "height": 306
        },
        "id": "z32Jmlg7BgbB",
        "outputId": "b5c55887-d9e1-45b3-ebb4-68208ef966a2"
      },
      "source": [
        "x_train, x_test, y_train, y_test = train_test_split(data, labels, test_size=0.2, random_state=42)"
      ],
      "execution_count": 70,
      "outputs": [
        {
          "output_type": "error",
          "ename": "ValueError",
          "evalue": "ignored",
          "traceback": [
            "\u001b[0;31m---------------------------------------------------------------------------\u001b[0m",
            "\u001b[0;31mValueError\u001b[0m                                Traceback (most recent call last)",
            "\u001b[0;32m<ipython-input-70-407f8bf4f01f>\u001b[0m in \u001b[0;36m<module>\u001b[0;34m()\u001b[0m\n\u001b[0;32m----> 1\u001b[0;31m \u001b[0mx_train\u001b[0m\u001b[0;34m,\u001b[0m \u001b[0mx_test\u001b[0m\u001b[0;34m,\u001b[0m \u001b[0my_train\u001b[0m\u001b[0;34m,\u001b[0m \u001b[0my_test\u001b[0m \u001b[0;34m=\u001b[0m \u001b[0mtrain_test_split\u001b[0m\u001b[0;34m(\u001b[0m\u001b[0mdata\u001b[0m\u001b[0;34m,\u001b[0m \u001b[0mlabels\u001b[0m\u001b[0;34m,\u001b[0m \u001b[0mtest_size\u001b[0m\u001b[0;34m=\u001b[0m\u001b[0;36m0.2\u001b[0m\u001b[0;34m,\u001b[0m \u001b[0mrandom_state\u001b[0m\u001b[0;34m=\u001b[0m\u001b[0;36m42\u001b[0m\u001b[0;34m)\u001b[0m\u001b[0;34m\u001b[0m\u001b[0;34m\u001b[0m\u001b[0m\n\u001b[0m",
            "\u001b[0;32m/usr/local/lib/python3.7/dist-packages/sklearn/model_selection/_split.py\u001b[0m in \u001b[0;36mtrain_test_split\u001b[0;34m(*arrays, **options)\u001b[0m\n\u001b[1;32m   2120\u001b[0m     \u001b[0mn_samples\u001b[0m \u001b[0;34m=\u001b[0m \u001b[0m_num_samples\u001b[0m\u001b[0;34m(\u001b[0m\u001b[0marrays\u001b[0m\u001b[0;34m[\u001b[0m\u001b[0;36m0\u001b[0m\u001b[0;34m]\u001b[0m\u001b[0;34m)\u001b[0m\u001b[0;34m\u001b[0m\u001b[0;34m\u001b[0m\u001b[0m\n\u001b[1;32m   2121\u001b[0m     n_train, n_test = _validate_shuffle_split(n_samples, test_size, train_size,\n\u001b[0;32m-> 2122\u001b[0;31m                                               default_test_size=0.25)\n\u001b[0m\u001b[1;32m   2123\u001b[0m \u001b[0;34m\u001b[0m\u001b[0m\n\u001b[1;32m   2124\u001b[0m     \u001b[0;32mif\u001b[0m \u001b[0mshuffle\u001b[0m \u001b[0;32mis\u001b[0m \u001b[0;32mFalse\u001b[0m\u001b[0;34m:\u001b[0m\u001b[0;34m\u001b[0m\u001b[0;34m\u001b[0m\u001b[0m\n",
            "\u001b[0;32m/usr/local/lib/python3.7/dist-packages/sklearn/model_selection/_split.py\u001b[0m in \u001b[0;36m_validate_shuffle_split\u001b[0;34m(n_samples, test_size, train_size, default_test_size)\u001b[0m\n\u001b[1;32m   1803\u001b[0m             \u001b[0;34m'resulting train set will be empty. Adjust any of the '\u001b[0m\u001b[0;34m\u001b[0m\u001b[0;34m\u001b[0m\u001b[0m\n\u001b[1;32m   1804\u001b[0m             'aforementioned parameters.'.format(n_samples, test_size,\n\u001b[0;32m-> 1805\u001b[0;31m                                                 train_size)\n\u001b[0m\u001b[1;32m   1806\u001b[0m         )\n\u001b[1;32m   1807\u001b[0m \u001b[0;34m\u001b[0m\u001b[0m\n",
            "\u001b[0;31mValueError\u001b[0m: With n_samples=0, test_size=0.2 and train_size=None, the resulting train set will be empty. Adjust any of the aforementioned parameters."
          ]
        }
      ]
    },
    {
      "cell_type": "code",
      "metadata": {
        "id": "OyKHMa1SBjVX"
      },
      "source": [
        "print('Ukuran data train =', x_train.shape)\n",
        "print('Ukuran data test =', x_test.shape)"
      ],
      "execution_count": null,
      "outputs": []
    },
    {
      "cell_type": "code",
      "metadata": {
        "id": "a8tA9rc2BnZQ"
      },
      "source": [
        "model = Sequential()\n",
        "# Extracted Feature Layer\n",
        "model.add(InputLayer(input_shape=[32,32,3]))\n",
        "model.add(Conv2D(filters=32, kernel_size=2, strides=1, padding='same', activation='relu'))\n",
        "model.add(MaxPool2D(pool_size=2, padding='same'))\n",
        "model.add(Conv2D(filters=50, kernel_size=2, strides=1, padding='same', activation='relu'))\n",
        "model.add(MaxPool2D(pool_size=2, padding='same'))\n",
        "model.add(Dropout(0.25))\n",
        "model.add(Flatten())\n",
        "# Fully Connected Layer\n",
        "model.add(Dense(512, activation='relu'))\n",
        "model.add(Dropout(0.5))\n",
        "model.add(Dense(1, activation='sigmoid'))"
      ],
      "execution_count": null,
      "outputs": []
    },
    {
      "cell_type": "code",
      "metadata": {
        "id": "I9Gma46hBq0R"
      },
      "source": [
        "model.summary()"
      ],
      "execution_count": null,
      "outputs": []
    },
    {
      "cell_type": "code",
      "metadata": {
        "id": "9TuCeuRUBr_n"
      },
      "source": [
        "# tentukan hyperparameter\n",
        "lr = 0.001\n",
        "max_epochs = 100\n",
        "opt_funct = Adam(learning_rate=lr)"
      ],
      "execution_count": null,
      "outputs": []
    },
    {
      "cell_type": "code",
      "metadata": {
        "id": "N4U6uMv1BtWQ"
      },
      "source": [
        "# compile arsitektur yang telah dibuat\n",
        "model.compile(loss = 'binary_crossentropy', \n",
        "              optimizer = opt_funct, \n",
        "              metrics = ['accuracy'])"
      ],
      "execution_count": null,
      "outputs": []
    },
    {
      "cell_type": "code",
      "metadata": {
        "id": "ORmasQqFBus5"
      },
      "source": [
        "H = model.fit(x_train, y_train, validation_data=(x_test, y_test), \n",
        "          epochs=max_epochs, batch_size=32)"
      ],
      "execution_count": null,
      "outputs": []
    },
    {
      "cell_type": "code",
      "metadata": {
        "id": "OKzRgo42BuzK"
      },
      "source": [
        "N = np.arange(0, max_epochs)\n",
        "plt.style.use(\"ggplot\")\n",
        "plt.figure()\n",
        "plt.plot(N, H.history[\"loss\"], label=\"train_loss\")\n",
        "plt.plot(N, H.history[\"val_loss\"], label=\"val_loss\")\n",
        "#plt.plot(N, H.history[\"accuracy\"], label=\"train_acc\")\n",
        "#plt.plot(N, H.history[\"val_accuracy\"], label=\"val_acc\")\n",
        "plt.xlabel(\"Epoch #\")\n",
        "plt.legend()\n",
        "plt.show()"
      ],
      "execution_count": null,
      "outputs": []
    },
    {
      "cell_type": "code",
      "metadata": {
        "id": "aUsFdNtZBu4m"
      },
      "source": [
        "# menghitung nilai akurasi model terhadap data test\n",
        "predictions = model.predict(x_test, batch_size=32)\n",
        "target = (predictions > 0.5).astype(np.int)\n",
        "print(classification_report(y_test, target, target_names=label_list))"
      ],
      "execution_count": null,
      "outputs": []
    },
    {
      "cell_type": "code",
      "metadata": {
        "id": "JTWJ4FE-B06i"
      },
      "source": [
        "# uji model menggunakan image lain\n",
        "queryPath = imagePaths+'query_lion.jpg'\n",
        "query = cv2.imread(queryPath)\n",
        "output = query.copy()\n",
        "query = cv2.resize(query, (32, 32))\n",
        "q = []\n",
        "q.append(query)\n",
        "q = np.array(q, dtype='float') / 255.0\n",
        "\n",
        "q_pred = model.predict(q)\n",
        "print(q_pred)"
      ],
      "execution_count": null,
      "outputs": []
    },
    {
      "cell_type": "code",
      "metadata": {
        "id": "-Zjpvt4KB1D8"
      },
      "source": [
        "if q_pred<=0.5 :\n",
        "    target = \"Elephant\"\n",
        "else :\n",
        "    target = \"Lion\"\n",
        "text = \"{}\".format(target)\n",
        "cv2.putText(output, text, (10, 30), cv2.FONT_HERSHEY_SIMPLEX, 0.7, (0, 0, 255), 2)\n",
        " \n",
        "# menampilkan output image\n",
        "cv2.imshow('Output', output)\n",
        "cv2.waitKey() # image tidak akan diclose,sebelum user menekan sembarang tombol\n",
        "cv2.destroyWindow('Output') # image akan diclose"
      ],
      "execution_count": null,
      "outputs": []
    },
    {
      "cell_type": "code",
      "metadata": {
        "id": "IGfDRkEVB1Ll"
      },
      "source": [
        ""
      ],
      "execution_count": null,
      "outputs": []
    }
  ]
}